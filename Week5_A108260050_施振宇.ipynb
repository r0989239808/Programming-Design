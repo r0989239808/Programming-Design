{
  "nbformat": 4,
  "nbformat_minor": 0,
  "metadata": {
    "colab": {
      "name": "Week5-A108260050-施振宇.ipynb",
      "provenance": []
    },
    "kernelspec": {
      "name": "python3",
      "display_name": "Python 3"
    }
  },
  "cells": [
    {
      "cell_type": "code",
      "metadata": {
        "id": "RJGsPkarGgSw",
        "colab_type": "code",
        "colab": {
          "base_uri": "https://localhost:8080/",
          "height": 34
        },
        "outputId": "f947713b-d11b-47ac-c69e-c92fa0f9ddd4"
      },
      "source": [
        "print(\"Hours\")"
      ],
      "execution_count": 1,
      "outputs": [
        {
          "output_type": "stream",
          "text": [
            "Hours\n"
          ],
          "name": "stdout"
        }
      ]
    },
    {
      "cell_type": "code",
      "metadata": {
        "id": "2MAtOZSILAwY",
        "colab_type": "code",
        "colab": {
          "base_uri": "https://localhost:8080/",
          "height": 34
        },
        "outputId": "a6764982-3979-4255-8f58-a3715ee27207"
      },
      "source": [
        "print(\"123%60\")"
      ],
      "execution_count": 2,
      "outputs": [
        {
          "output_type": "stream",
          "text": [
            "123%60\n"
          ],
          "name": "stdout"
        }
      ]
    },
    {
      "cell_type": "code",
      "metadata": {
        "id": "QsSw0cwwLx-8",
        "colab_type": "code",
        "colab": {
          "base_uri": "https://localhost:8080/",
          "height": 51
        },
        "outputId": "3cbbb6d8-60e7-407a-c326-725108ddb73a"
      },
      "source": [
        "y=input(\"請問年紀?\")\n",
        "print(\"原來你\",y,\"歲\")"
      ],
      "execution_count": 3,
      "outputs": [
        {
          "output_type": "stream",
          "text": [
            "請問年紀?18\n",
            "原來你 18 歲\n"
          ],
          "name": "stdout"
        }
      ]
    },
    {
      "cell_type": "code",
      "metadata": {
        "id": "xp3ElPReOEhy",
        "colab_type": "code",
        "colab": {
          "base_uri": "https://localhost:8080/",
          "height": 51
        },
        "outputId": "c8b145b5-6424-4450-b013-516291c3c16f"
      },
      "source": [
        "y=int(input(\"請問年紀?\"))\n",
        "print(\"原來你\",y,\"歲\")"
      ],
      "execution_count": 4,
      "outputs": [
        {
          "output_type": "stream",
          "text": [
            "請問年紀?18\n",
            "原來你 18 歲\n"
          ],
          "name": "stdout"
        }
      ]
    },
    {
      "cell_type": "code",
      "metadata": {
        "id": "Kovc57rIOn5a",
        "colab_type": "code",
        "colab": {
          "base_uri": "https://localhost:8080/",
          "height": 51
        },
        "outputId": "9763db7e-726e-49df-a22b-2c9ab7ea3dcc"
      },
      "source": [
        "name=input(\"請問貴姓大名?\")\n",
        "print(\"你好\",name)"
      ],
      "execution_count": 6,
      "outputs": [
        {
          "output_type": "stream",
          "text": [
            "請問貴姓大名?施振宇\n",
            "你好 施振宇\n"
          ],
          "name": "stdout"
        }
      ]
    },
    {
      "cell_type": "code",
      "metadata": {
        "id": "Fb-u0jHPPMzA",
        "colab_type": "code",
        "colab": {
          "base_uri": "https://localhost:8080/",
          "height": 51
        },
        "outputId": "e49072f6-3cfb-47bb-df22-e71acea0447f"
      },
      "source": [
        "w=float(input(\"請問體重?\"))\n",
        "print(\"體重為\",w)"
      ],
      "execution_count": 7,
      "outputs": [
        {
          "output_type": "stream",
          "text": [
            "請問體重?58\n",
            "體重為 58.0\n"
          ],
          "name": "stdout"
        }
      ]
    },
    {
      "cell_type": "code",
      "metadata": {
        "id": "qsk1Dq4cPtO1",
        "colab_type": "code",
        "colab": {
          "base_uri": "https://localhost:8080/",
          "height": 85
        },
        "outputId": "95508317-7512-4fde-f9d0-bc4eac7ce735"
      },
      "source": [
        "上衣=int(input(\"請輸出上衣數量?\"))\n",
        "褲子=int(input(\"請輸入褲子數量?\"))\n",
        "背心=int(input(\"請輸入背心數量?\"))\n",
        "\n",
        "總金額=上衣*300+褲子*350+背心*400\n",
        "print(\"訂購服裝的總金額為\",總金額)"
      ],
      "execution_count": 9,
      "outputs": [
        {
          "output_type": "stream",
          "text": [
            "請輸出上衣數量?20\n",
            "請輸入褲子數量?30\n",
            "請輸入背心數量?40\n",
            "訂購服裝的總金額為 32500\n"
          ],
          "name": "stdout"
        }
      ]
    },
    {
      "cell_type": "code",
      "metadata": {
        "id": "UCmUp8mlRbWi",
        "colab_type": "code",
        "colab": {
          "base_uri": "https://localhost:8080/",
          "height": 51
        },
        "outputId": "1cc1e160-80dc-476c-a2a9-1cf12906ed07"
      },
      "source": [
        "半徑=float(input(\"請輸入半徑?\"))\n",
        "\n",
        "PI=3.14159\n",
        "\n",
        "圓周長=2*PI*半徑\n",
        "圓面積=半徑*半徑*PI\n",
        "\n",
        "print(\"圓周長為\",圓周長,\"圓面積為\",圓面積)"
      ],
      "execution_count": 10,
      "outputs": [
        {
          "output_type": "stream",
          "text": [
            "請輸入半徑?5\n",
            "圓周長為 31.4159 圓面積為 78.53975\n"
          ],
          "name": "stdout"
        }
      ]
    },
    {
      "cell_type": "code",
      "metadata": {
        "id": "MC9DbkQUSyI5",
        "colab_type": "code",
        "colab": {
          "base_uri": "https://localhost:8080/",
          "height": 51
        },
        "outputId": "56690859-46f8-4219-a2a3-a5b44f480f52"
      },
      "source": [
        "c=float(input(\"請輸入攝氏溫度?\"))\n",
        "f=c*9/5+32\n",
        "print(\"華氏溫度為\",f\n",
        "     )"
      ],
      "execution_count": 11,
      "outputs": [
        {
          "output_type": "stream",
          "text": [
            "請輸入攝氏溫度?55\n",
            "華氏溫度為 131.0\n"
          ],
          "name": "stdout"
        }
      ]
    },
    {
      "cell_type": "code",
      "metadata": {
        "id": "zw8tT7bgTSQi",
        "colab_type": "code",
        "colab": {
          "base_uri": "https://localhost:8080/",
          "height": 102
        },
        "outputId": "5b124b1a-bb50-44a6-89cb-e13e4e43b288"
      },
      "source": [
        "money=int(input(\"請輸入本金\"))\n",
        "interest=float(input(\"請輸入年利率(%)?\"))\n",
        "\n",
        "y1=money*(1+interest/100)\n",
        "y2=money*((1+interest/100)**2)\n",
        "y3=money*((1+interest/100)**3)\n",
        "\n",
        "print(\"第一年本利合為\",y1)\n",
        "print(\"第二年本利合為\",y2)\n",
        "print(\"第三年本利合為\",y3)"
      ],
      "execution_count": 12,
      "outputs": [
        {
          "output_type": "stream",
          "text": [
            "請輸入本金1000\n",
            "請輸入年利率(%)?18\n",
            "第一年本利合為 1180.0\n",
            "第二年本利合為 1392.3999999999999\n",
            "第三年本利合為 1643.032\n"
          ],
          "name": "stdout"
        }
      ]
    },
    {
      "cell_type": "code",
      "metadata": {
        "id": "FfWUTLj3VT46",
        "colab_type": "code",
        "colab": {
          "base_uri": "https://localhost:8080/",
          "height": 85
        },
        "outputId": "18344764-7492-4e7c-f7cb-a8bffe2959dc"
      },
      "source": [
        "第一次=int(input(\"請輸入第一次期中考成績?\"))\n",
        "第二次=int(input(\"請輸入第二次期中考成績?\"))\n",
        "期末考=int(input(\"請輸入期末考成績?\"))\n",
        "\n",
        "總分為=(第一次+第二次+期末考)\n",
        "平均為=(第一次+第二次+期末考)/3\n",
        "\n",
        "print(\"總分為\",總分為,\"平均為\",平均為)"
      ],
      "execution_count": 16,
      "outputs": [
        {
          "output_type": "stream",
          "text": [
            "請輸入第一次期中考成績?75\n",
            "請輸入第二次期中考成績?80\n",
            "請輸入期末考成績?65\n",
            "總分為 220 平均為 73.33333333333333\n"
          ],
          "name": "stdout"
        }
      ]
    },
    {
      "cell_type": "code",
      "metadata": {
        "id": "uBkhHFQuZNEQ",
        "colab_type": "code",
        "colab": {
          "base_uri": "https://localhost:8080/",
          "height": 68
        },
        "outputId": "3cf37394-b20a-4afc-c0aa-dc0e679caef7"
      },
      "source": [
        "a=float(input(\"請輸入幾尺?\"))\n",
        "b=float(input(\"請輸入幾吋?\"))\n",
        "公分=(a*12+b)*2.54\n",
        "print(\"轉換為\",公分,\"公分\")"
      ],
      "execution_count": 17,
      "outputs": [
        {
          "output_type": "stream",
          "text": [
            "請輸入幾尺?5\n",
            "請輸入幾吋?8\n",
            "轉換為 172.72 公分\n"
          ],
          "name": "stdout"
        }
      ]
    },
    {
      "cell_type": "code",
      "metadata": {
        "id": "bCTAS_qYasZn",
        "colab_type": "code",
        "colab": {
          "base_uri": "https://localhost:8080/",
          "height": 51
        },
        "outputId": "ed4fcc19-96e5-4451-c87c-89217c545905"
      },
      "source": [
        "a=int(input(\"請輸入座號?\"))\n",
        "組別為=a//5+1\n",
        "print(\"組別為\",組別為)"
      ],
      "execution_count": 20,
      "outputs": [
        {
          "output_type": "stream",
          "text": [
            "請輸入座號?19\n",
            "組別為 4\n"
          ],
          "name": "stdout"
        }
      ]
    },
    {
      "cell_type": "code",
      "metadata": {
        "id": "iFmayb7bckZn",
        "colab_type": "code",
        "colab": {}
      },
      "source": [
        ""
      ],
      "execution_count": 0,
      "outputs": []
    }
  ]
}