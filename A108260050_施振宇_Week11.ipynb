{
  "nbformat": 4,
  "nbformat_minor": 0,
  "metadata": {
    "colab": {
      "name": "A108260050-施振宇-Week11",
      "provenance": []
    },
    "kernelspec": {
      "name": "python3",
      "display_name": "Python 3"
    }
  },
  "cells": [
    {
      "cell_type": "code",
      "metadata": {
        "id": "kNzSl0uJlQzJ",
        "colab_type": "code",
        "colab": {
          "base_uri": "https://localhost:8080/",
          "height": 34
        },
        "outputId": "4b844553-9029-4a6f-cdbe-eee00edf4283"
      },
      "source": [
        "x=5\n",
        "if x < 10:\n",
        "    print(\"x is less than 10\")"
      ],
      "execution_count": 2,
      "outputs": [
        {
          "output_type": "stream",
          "text": [
            "x is less than 10\n"
          ],
          "name": "stdout"
        }
      ]
    },
    {
      "cell_type": "code",
      "metadata": {
        "id": "U3XL64-glnVg",
        "colab_type": "code",
        "colab": {
          "base_uri": "https://localhost:8080/",
          "height": 204
        },
        "outputId": "53fd85ab-83e8-4385-8d26-62825fe7530b"
      },
      "source": [
        "x=5 # 初始值\n",
        "while x < 10: # 判斷條件 \n",
        "    print(\"x is less than 10\")\n",
        "    print(\"I am still here\")\n",
        "    x=x+1     # 更新條件\n",
        "print(\"Finished\")  "
      ],
      "execution_count": 3,
      "outputs": [
        {
          "output_type": "stream",
          "text": [
            "x is less than 10\n",
            "I am still here\n",
            "x is less than 10\n",
            "I am still here\n",
            "x is less than 10\n",
            "I am still here\n",
            "x is less than 10\n",
            "I am still here\n",
            "x is less than 10\n",
            "I am still here\n",
            "Finished\n"
          ],
          "name": "stdout"
        }
      ]
    },
    {
      "cell_type": "code",
      "metadata": {
        "id": "d1kPH4A3onI4",
        "colab_type": "code",
        "colab": {
          "base_uri": "https://localhost:8080/",
          "height": 102
        },
        "outputId": "c6d7c533-7792-4058-ea11-68e068405d6a"
      },
      "source": [
        "x=1 # 初始值\n",
        "while x < 5 : # 判斷條件\n",
        "    print(\"變數x是\",x)\n",
        "    x=x+1  #更新條件\n",
        "print(\"Finished\")    "
      ],
      "execution_count": 4,
      "outputs": [
        {
          "output_type": "stream",
          "text": [
            "變數x是 1\n",
            "變數x是 2\n",
            "變數x是 3\n",
            "變數x是 4\n",
            "Finished\n"
          ],
          "name": "stdout"
        }
      ]
    },
    {
      "cell_type": "code",
      "metadata": {
        "id": "JtgM2scipta4",
        "colab_type": "code",
        "colab": {
          "base_uri": "https://localhost:8080/",
          "height": 204
        },
        "outputId": "f03ca91d-9b81-43e4-be5d-abc8ab975daf"
      },
      "source": [
        "# 印10次HELLO\n",
        "\n",
        "x=0 #初始值\n",
        "while x < 10: #判斷條件\n",
        "    x= x+1 #更新條件\n",
        "    left =10-x  #更新條件\n",
        "    print(\"This is\",x,\"times HELLO\",\"You still have\",left,\"times.\")\n",
        "print(\"Finished\")"
      ],
      "execution_count": 19,
      "outputs": [
        {
          "output_type": "stream",
          "text": [
            "This is 1 times HELLO You still have 9 times.\n",
            "This is 2 times HELLO You still have 8 times.\n",
            "This is 3 times HELLO You still have 7 times.\n",
            "This is 4 times HELLO You still have 6 times.\n",
            "This is 5 times HELLO You still have 5 times.\n",
            "This is 6 times HELLO You still have 4 times.\n",
            "This is 7 times HELLO You still have 3 times.\n",
            "This is 8 times HELLO You still have 2 times.\n",
            "This is 9 times HELLO You still have 1 times.\n",
            "This is 10 times HELLO You still have 0 times.\n",
            "Finished\n"
          ],
          "name": "stdout"
        }
      ]
    },
    {
      "cell_type": "code",
      "metadata": {
        "id": "pO68aBNltV32",
        "colab_type": "code",
        "colab": {
          "base_uri": "https://localhost:8080/",
          "height": 34
        },
        "outputId": "d2e5f3b1-b812-461f-a6f4-aed576a280fc"
      },
      "source": [
        "# 1到10之和\n",
        "\n",
        "X=0 #初始值\n",
        "sum=0 #初始值\n",
        "\n",
        "while x < 10 : # 判斷條件\n",
        "   x= x+1 # 更新條件\n",
        "   sum =sum+x # 更新條件\n",
        "   print(\"Sum is\",sum)\n",
        "print(\"Finished\")   "
      ],
      "execution_count": 24,
      "outputs": [
        {
          "output_type": "stream",
          "text": [
            "Finished\n"
          ],
          "name": "stdout"
        }
      ]
    },
    {
      "cell_type": "code",
      "metadata": {
        "id": "3DhbTOLzw9po",
        "colab_type": "code",
        "colab": {
          "base_uri": "https://localhost:8080/",
          "height": 68
        },
        "outputId": "ae58732b-6a67-44a3-b924-92de42a5782d"
      },
      "source": [
        "# 1到10之和大於50\n",
        "\n",
        "X=0 #初始值\n",
        "sum=0 #初始值\n",
        "\n",
        "while sum <= 10 : # 判斷條件\n",
        "   x= x+1 # 更新條件\n",
        "   sum =sum+x # 更新條件\n",
        "   print(\"X is \",x)\n",
        "   print(\"Sum is\",sum)\n",
        "print(\"Finished\")   "
      ],
      "execution_count": 27,
      "outputs": [
        {
          "output_type": "stream",
          "text": [
            "X is  17\n",
            "Sum is 17\n",
            "Finished\n"
          ],
          "name": "stdout"
        }
      ]
    },
    {
      "cell_type": "code",
      "metadata": {
        "id": "NYJhgIssrVQ-",
        "colab_type": "code",
        "colab": {
          "base_uri": "https://localhost:8080/",
          "height": 34
        },
        "outputId": "2133fde8-2877-4670-a9ed-cb6b27fbf004"
      },
      "source": [
        "#1到9奇數之和\n",
        "\n",
        "sum =0 #初始值\n",
        "x=1 #初始值\n",
        "\n",
        "while x<11: #判斷條件\n",
        "  sum=sum+x #更新條件\n",
        "  x =x+2 #更新條件\n",
        "  \n",
        "print(\"1+3+5+7+9=\",sum)\n"
      ],
      "execution_count": 28,
      "outputs": [
        {
          "output_type": "stream",
          "text": [
            "1+3+5+7+9= 25\n"
          ],
          "name": "stdout"
        }
      ]
    },
    {
      "cell_type": "code",
      "metadata": {
        "id": "DDSiWbSu0nCf",
        "colab_type": "code",
        "colab": {
          "base_uri": "https://localhost:8080/",
          "height": 34
        },
        "outputId": "c5a346ff-ffa4-4830-cd23-2c2dce2681ce"
      },
      "source": [
        "#求大於1000最小平方和的x\n",
        "\n",
        "sum=0 #初始值\n",
        "i=0 #初始值\n",
        "while sum<=1000:\n",
        "  i+=1\n",
        "  sum +=i*i\n",
        "print(\"最小的x為\",i)"
      ],
      "execution_count": 29,
      "outputs": [
        {
          "output_type": "stream",
          "text": [
            "最小的x為 14\n"
          ],
          "name": "stdout"
        }
      ]
    }
  ]
}