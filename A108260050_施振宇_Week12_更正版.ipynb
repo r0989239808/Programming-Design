{
  "nbformat": 4,
  "nbformat_minor": 0,
  "metadata": {
    "colab": {
      "name": "A108260050-施振宇-Week12 -更正版",
      "provenance": []
    },
    "kernelspec": {
      "name": "python3",
      "display_name": "Python 3"
    }
  },
  "cells": [
    {
      "cell_type": "code",
      "metadata": {
        "id": "tMU8Z2mdkeI4",
        "colab_type": "code",
        "colab": {
          "base_uri": "https://localhost:8080/",
          "height": 34
        },
        "outputId": "265cc6f4-8f34-4093-b9fc-4724eac69886"
      },
      "source": [
        "n=0     #初始條件\n",
        "result=0\n",
        "\n",
        "while n < 10:  #判斷條件\n",
        "    n=n+1   #更新條件\n",
        "    result=result+n # 累加\n",
        "print(\"finished\")"
      ],
      "execution_count": 1,
      "outputs": [
        {
          "output_type": "stream",
          "text": [
            "finished\n"
          ],
          "name": "stdout"
        }
      ]
    },
    {
      "cell_type": "code",
      "metadata": {
        "id": "RvlZXNnZls7B",
        "colab_type": "code",
        "colab": {
          "base_uri": "https://localhost:8080/",
          "height": 34
        },
        "outputId": "2101d2e6-0b45-4100-8784-db8e56d154b0"
      },
      "source": [
        "n=0     #初始條件\n",
        "\n",
        "while n < 10:  #判斷條件\n",
        "    n=n+1   #更新條件\n",
        "    if n==4:\n",
        "     break #跳離迴圈\n",
        "print(\"finished\")"
      ],
      "execution_count": 4,
      "outputs": [
        {
          "output_type": "stream",
          "text": [
            "finished\n"
          ],
          "name": "stdout"
        }
      ]
    },
    {
      "cell_type": "code",
      "metadata": {
        "id": "QHGPQ_JYmHiw",
        "colab_type": "code",
        "colab": {
          "base_uri": "https://localhost:8080/",
          "height": 34
        },
        "outputId": "a7c95ac3-5a82-42a0-d424-edf139f65d5f"
      },
      "source": [
        "n=0     #初始條件\n",
        "\n",
        "while n < 10:  #判斷條件\n",
        "    n=n+1   #更新條件\n",
        "    if n==4:\n",
        "     continue #跳離迴圈+此次迴圈不執行\n",
        "print(\"finished\")"
      ],
      "execution_count": 5,
      "outputs": [
        {
          "output_type": "stream",
          "text": [
            "finished\n"
          ],
          "name": "stdout"
        }
      ]
    },
    {
      "cell_type": "code",
      "metadata": {
        "id": "2PJVGlkJmsQp",
        "colab_type": "code",
        "colab": {
          "base_uri": "https://localhost:8080/",
          "height": 131
        },
        "outputId": "cbb9e4d5-5897-467c-f4da-a4c0fc041323"
      },
      "source": [
        "x=5\n",
        "while True\n",
        "    print(\"hello\")\n",
        "    x = x+1"
      ],
      "execution_count": 6,
      "outputs": [
        {
          "output_type": "error",
          "ename": "SyntaxError",
          "evalue": "ignored",
          "traceback": [
            "\u001b[0;36m  File \u001b[0;32m\"<ipython-input-6-212563977748>\"\u001b[0;36m, line \u001b[0;32m2\u001b[0m\n\u001b[0;31m    while True\u001b[0m\n\u001b[0m              ^\u001b[0m\n\u001b[0;31mSyntaxError\u001b[0m\u001b[0;31m:\u001b[0m invalid syntax\n"
          ]
        }
      ]
    },
    {
      "cell_type": "code",
      "metadata": {
        "id": "qAyy5JmqnJLM",
        "colab_type": "code",
        "colab": {
          "base_uri": "https://localhost:8080/",
          "height": 131
        },
        "outputId": "8ea33a45-61d0-4cb7-971c-e249c74b3c23"
      },
      "source": [
        "#無窮迴圈:while True + break\n",
        "while True\n",
        "    print(\"Hello\")\n",
        "    if 條件:\n",
        "        執行動作\n",
        "    else:\n",
        "        break    "
      ],
      "execution_count": 7,
      "outputs": [
        {
          "output_type": "error",
          "ename": "SyntaxError",
          "evalue": "ignored",
          "traceback": [
            "\u001b[0;36m  File \u001b[0;32m\"<ipython-input-7-164a9ac87401>\"\u001b[0;36m, line \u001b[0;32m1\u001b[0m\n\u001b[0;31m    while True\u001b[0m\n\u001b[0m              ^\u001b[0m\n\u001b[0;31mSyntaxError\u001b[0m\u001b[0;31m:\u001b[0m invalid syntax\n"
          ]
        }
      ]
    },
    {
      "cell_type": "code",
      "metadata": {
        "id": "ypEWBnEToMLg",
        "colab_type": "code",
        "colab": {
          "base_uri": "https://localhost:8080/",
          "height": 85
        },
        "outputId": "dd214059-9902-4422-dda6-8af9590218ce"
      },
      "source": [
        "#請寫一個程式模擬密碼登入，使用者輸入密碼\n",
        "#若密碼一致，則輸出「密碼正確」，否則輸出「登入失敗」\n",
        "\n",
        "while True:\n",
        "    password = input(\"Enter Your Password\")\n",
        "    if password==\"answer\":\n",
        "      print(\"Correct\")\n",
        "      break\n",
        "    else:\n",
        "        print(\"Fail,Try Again\")"
      ],
      "execution_count": 12,
      "outputs": [
        {
          "output_type": "stream",
          "text": [
            "Enter Your Password123\n",
            "Fail,Try Again\n",
            "Enter Your Passwordanswer\n",
            "Correct\n"
          ],
          "name": "stdout"
        }
      ]
    },
    {
      "cell_type": "code",
      "metadata": {
        "id": "yXgQjFxBpqJt",
        "colab_type": "code",
        "colab": {
          "base_uri": "https://localhost:8080/",
          "height": 136
        },
        "outputId": "27c29ca9-075b-4fb9-c729-ecbe758b0234"
      },
      "source": [
        "#請寫一個程式模擬帳號與密碼登入，使用者輸入密碼\n",
        "#若密碼一致，則輸出「帳號與密碼正確」，否則輸出「登入失敗」\n",
        "\n",
        "while True:\n",
        "    account = input(\"Enter Your Account\")\n",
        "    password = input(\"Enter Your Password\")\n",
        "    if account==\"answer\":\n",
        "      print(\"Correct\")\n",
        "      break\n",
        "    else:\n",
        "        print(\"Fail,Try Again\")\n",
        "    if password==\"answer\":\n",
        "      print(\"Correct\")\n",
        "      break\n",
        "    else:\n",
        "        print(\"Fail,Try Again\")"
      ],
      "execution_count": 13,
      "outputs": [
        {
          "output_type": "stream",
          "text": [
            "Enter Your Account123\n",
            "Enter Your Password123\n",
            "Fail,Try Again\n",
            "Fail,Try Again\n",
            "Enter Your Accountanswer\n",
            "Enter Your Passwordanswer\n",
            "Correct\n"
          ],
          "name": "stdout"
        }
      ]
    },
    {
      "cell_type": "code",
      "metadata": {
        "id": "L8HM_kd_rHFE",
        "colab_type": "code",
        "colab": {
          "base_uri": "https://localhost:8080/",
          "height": 51
        },
        "outputId": "9ce11500-6b20-4d4d-95ba-a2e869732a5a"
      },
      "source": [
        "password=\"chowchole\"\n",
        "times=0\n",
        "\n",
        "while times <=3:\n",
        "    answer = input(\"Enter Your Password: \")\n",
        "    if answer == password:\n",
        "        print(\"登入成功\")\n",
        "        break\n",
        "    else:\n",
        "        times = times+1\n",
        "        chance = 3-times\n",
        "        print(\"密碼錯誤!還有\",chance,\"次機會\")\n"
      ],
      "execution_count": 19,
      "outputs": [
        {
          "output_type": "stream",
          "text": [
            "Enter Your Password: chowchole\n",
            "登入成功\n"
          ],
          "name": "stdout"
        }
      ]
    },
    {
      "cell_type": "code",
      "metadata": {
        "id": "qdlEQEiov5HB",
        "colab_type": "code",
        "colab": {
          "base_uri": "https://localhost:8080/",
          "height": 34
        },
        "outputId": "2661a1df-4b70-404a-d38a-48e7d65f4141"
      },
      "source": [
        "for a in range(6):\n",
        "    print(a,end=\" \")"
      ],
      "execution_count": 21,
      "outputs": [
        {
          "output_type": "stream",
          "text": [
            "0 1 2 3 4 5 "
          ],
          "name": "stdout"
        }
      ]
    },
    {
      "cell_type": "code",
      "metadata": {
        "id": "b7695SQi2rfb",
        "colab_type": "code",
        "colab": {
          "base_uri": "https://localhost:8080/",
          "height": 34
        },
        "outputId": "a7a19234-8102-4707-e30d-1d23740116fe"
      },
      "source": [
        "sum=0\n",
        "\n",
        "for x in range(1,11,2):\n",
        "    sum = sum + x\n",
        "\n",
        "print(\"1+3+5+7+9=\",sum)"
      ],
      "execution_count": 22,
      "outputs": [
        {
          "output_type": "stream",
          "text": [
            "1+3+5+7+9= 25\n"
          ],
          "name": "stdout"
        }
      ]
    },
    {
      "cell_type": "code",
      "metadata": {
        "id": "byZ3Cwi04PwS",
        "colab_type": "code",
        "colab": {
          "base_uri": "https://localhost:8080/",
          "height": 51
        },
        "outputId": "bbc5dfc3-df59-411e-9125-71560bd726b5"
      },
      "source": [
        "n = int(input('請輸入n值?'))\n",
        "sum = 0\n",
        "for i in range(1,n+1):\n",
        "    sum = sum +i*i;\n",
        "print(sum)\n"
      ],
      "execution_count": 26,
      "outputs": [
        {
          "output_type": "stream",
          "text": [
            "請輸入n值?5\n",
            "55\n"
          ],
          "name": "stdout"
        }
      ]
    },
    {
      "cell_type": "code",
      "metadata": {
        "id": "SMN9IFgr46-M",
        "colab_type": "code",
        "colab": {}
      },
      "source": [
        "\n"
      ],
      "execution_count": 0,
      "outputs": []
    }
  ]
}